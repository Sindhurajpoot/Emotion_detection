{
 "cells": [
  {
   "cell_type": "markdown",
   "id": "a3acbe55-99bb-4a4c-888f-ef7623cabf2f",
   "metadata": {},
   "source": [
    "# Emotion Detection"
   ]
  },
  {
   "cell_type": "markdown",
   "id": "ce81b4f5-5427-430b-b0a4-a35954451853",
   "metadata": {},
   "source": [
    "## Importing libraries"
   ]
  },
  {
   "cell_type": "code",
   "execution_count": null,
   "id": "a2eb4bab-cd25-40bf-a179-763b04d58b50",
   "metadata": {},
   "outputs": [],
   "source": [
    "import matplotlib.pyplot as plt\n",
    "from glob import glob\n",
    "import cv2\n",
    "import random\n",
    "import os\n",
    "%matplotlib inline\n",
    "\n",
    "from tensorflow.keras.preprocessing.image import ImageDataGenerator\n",
    "from tensorflow.keras.layers import Dense, Input, Dropout, Flatten, Conv2D\n",
    "from tensorflow.keras.layers import BatchNormalization, Activation, MaxPooling2D\n",
    "from tensorflow.keras.models import Model, Sequential\n",
    "from tensorflow.keras.optimizers import Adam\n",
    "from tensorflow.keras.callbacks import ModelCheckpoint, ReduceLROnPlateau\n",
    "from tensorflow.keras.utils import plot_model\n",
    "\n",
    "from IPython.display import SVG, Image\n",
    "import tensorflow as tf\n",
    "print (\"Tensorflow version: \",tf.version)"
   ]
  },
  {
   "cell_type": "markdown",
   "id": "365c9385-918f-4dd4-b978-9824c8bc6625",
   "metadata": {},
   "source": [
    "### Exploring Dataset"
   ]
  },
  {
   "cell_type": "code",
   "execution_count": null,
   "id": "29ab8d5c-cd4e-4848-9654-da93586f4b5d",
   "metadata": {},
   "outputs": [],
   "source": [
    "images = glob(\"train/**/**\")\n",
    "for i in range(9):\n",
    "    image = random.choice(images)\n",
    "    plt.figure(figsize = (12,12))\n",
    "    plt.subplot(331+i)\n",
    "    plt.imshow(cv2.imread(image));plt.axis(\"off\")"
   ]
  },
  {
   "cell_type": "markdown",
   "id": "bd6a992b-cb96-40bd-ada7-e54726b0cbea",
   "metadata": {},
   "source": [
    "### Preparing Data For Training"
   ]
  },
  {
   "cell_type": "code",
   "execution_count": 4,
   "id": "939fa6d8-eae9-4f34-81b8-4dfcd9a0312e",
   "metadata": {},
   "outputs": [
    {
     "name": "stdout",
     "output_type": "stream",
     "text": [
      "Found 28709 images belonging to 7 classes.\n",
      "Found 7178 images belonging to 7 classes.\n"
     ]
    }
   ],
   "source": [
    "img_size = 48\n",
    "batch_size = 64\n",
    "datagen_train = ImageDataGenerator()\n",
    "train_generator = datagen_train.flow_from_directory(\"train/\",\n",
    "                                                    target_size =(img_size,img_size),\n",
    "                                                    color_mode = \"grayscale\",\n",
    "                                                    batch_size = batch_size,\n",
    "                                                    class_mode = \"categorical\",\n",
    "                                                    shuffle = True)\n",
    "datagen_validation = ImageDataGenerator()\n",
    "validation_generator = datagen_train.flow_from_directory(\"test/\",\n",
    "                                                     target_size = (img_size,img_size),\n",
    "                                                     color_mode = \"grayscale\",\n",
    "                                                     batch_size = batch_size,\n",
    "                                                     class_mode = \"categorical\",\n",
    "                                                     shuffle = True)"
   ]
  },
  {
   "cell_type": "markdown",
   "id": "59a0a726-24fc-4603-b7d1-0f9dc620ec1b",
   "metadata": {},
   "source": [
    "## Defining Model"
   ]
  },
  {
   "cell_type": "code",
   "execution_count": 5,
   "id": "80e93c9b-9e6d-46d9-8ead-a6344c88145f",
   "metadata": {},
   "outputs": [],
   "source": [
    "def Convolution(input_tensor, filters, kernel_size):\n",
    "    x = Conv2D(filters = filters, kernel_size = kernel_size, padding = \"same\")(input_tensor)\n",
    "    x = BatchNormalization()(x)\n",
    "    x = Activation('relu')(x)\n",
    "    x = MaxPooling2D(pool_size = (2,2))(x)\n",
    "    x = Dropout(0.25)(x)\n",
    "    return x"
   ]
  },
  {
   "cell_type": "code",
   "execution_count": 6,
   "id": "e305e36c-76a2-4f31-946a-3041077c7731",
   "metadata": {},
   "outputs": [],
   "source": [
    "def Dense_f(input_tensor, nodes):\n",
    "    x = Dense(nodes)(input_tensor)\n",
    "    x = BatchNormalization()(x)\n",
    "    x = Activation('relu')(x)\n",
    "    x = Dropout(0.25)(x)\n",
    "    return x"
   ]
  },
  {
   "cell_type": "code",
   "execution_count": 7,
   "id": "23258036-2260-446c-9e54-62b66258ed51",
   "metadata": {},
   "outputs": [],
   "source": [
    "def model_fer(input_shape):\n",
    "    inputs = Input(input_shape)\n",
    "    conv_1 = Convolution(inputs, 32,(3,3))\n",
    "    conv_2 = Convolution(conv_1,64,(5,5))\n",
    "    conv_3 = Convolution(conv_2,128,(3,3))\n",
    "    \n",
    "    flatten = Flatten()(conv_3)\n",
    "    \n",
    "    dense_1 = Dense_f(flatten,256)\n",
    "    \n",
    "    output = Dense(7,activation = \"softmax\")(dense_1)\n",
    "    model = Model(inputs = [inputs], outputs = [output])\n",
    "    \n",
    "    model.compile(optimizer = 'adam', loss = 'categorical_crossentropy', metrics = ['accuracy'])\n",
    "    return model"
   ]
  },
  {
   "cell_type": "code",
   "execution_count": 8,
   "id": "334f2f6e-87e7-4237-8c4b-de9e0e256591",
   "metadata": {},
   "outputs": [
    {
     "name": "stdout",
     "output_type": "stream",
     "text": [
      "Model: \"model\"\n",
      "_________________________________________________________________\n",
      " Layer (type)                Output Shape              Param #   \n",
      "=================================================================\n",
      " input_1 (InputLayer)        [(None, 48, 48, 1)]       0         \n",
      "                                                                 \n",
      " conv2d (Conv2D)             (None, 48, 48, 32)        320       \n",
      "                                                                 \n",
      " batch_normalization (BatchN  (None, 48, 48, 32)       128       \n",
      " ormalization)                                                   \n",
      "                                                                 \n",
      " activation (Activation)     (None, 48, 48, 32)        0         \n",
      "                                                                 \n",
      " max_pooling2d (MaxPooling2D  (None, 24, 24, 32)       0         \n",
      " )                                                               \n",
      "                                                                 \n",
      " dropout (Dropout)           (None, 24, 24, 32)        0         \n",
      "                                                                 \n",
      " conv2d_1 (Conv2D)           (None, 24, 24, 64)        51264     \n",
      "                                                                 \n",
      " batch_normalization_1 (Batc  (None, 24, 24, 64)       256       \n",
      " hNormalization)                                                 \n",
      "                                                                 \n",
      " activation_1 (Activation)   (None, 24, 24, 64)        0         \n",
      "                                                                 \n",
      " max_pooling2d_1 (MaxPooling  (None, 12, 12, 64)       0         \n",
      " 2D)                                                             \n",
      "                                                                 \n",
      " dropout_1 (Dropout)         (None, 12, 12, 64)        0         \n",
      "                                                                 \n",
      " conv2d_2 (Conv2D)           (None, 12, 12, 128)       73856     \n",
      "                                                                 \n",
      " batch_normalization_2 (Batc  (None, 12, 12, 128)      512       \n",
      " hNormalization)                                                 \n",
      "                                                                 \n",
      " activation_2 (Activation)   (None, 12, 12, 128)       0         \n",
      "                                                                 \n",
      " max_pooling2d_2 (MaxPooling  (None, 6, 6, 128)        0         \n",
      " 2D)                                                             \n",
      "                                                                 \n",
      " dropout_2 (Dropout)         (None, 6, 6, 128)         0         \n",
      "                                                                 \n",
      " flatten (Flatten)           (None, 4608)              0         \n",
      "                                                                 \n",
      " dense (Dense)               (None, 256)               1179904   \n",
      "                                                                 \n",
      " batch_normalization_3 (Batc  (None, 256)              1024      \n",
      " hNormalization)                                                 \n",
      "                                                                 \n",
      " activation_3 (Activation)   (None, 256)               0         \n",
      "                                                                 \n",
      " dropout_3 (Dropout)         (None, 256)               0         \n",
      "                                                                 \n",
      " dense_1 (Dense)             (None, 7)                 1799      \n",
      "                                                                 \n",
      "=================================================================\n",
      "Total params: 1,309,063\n",
      "Trainable params: 1,308,103\n",
      "Non-trainable params: 960\n",
      "_________________________________________________________________\n"
     ]
    }
   ],
   "source": [
    "model = model_fer((48,48,1))\n",
    "model.summary()"
   ]
  },
  {
   "cell_type": "markdown",
   "id": "b0c06b40-23a1-4810-aeb4-99f4c87b41ad",
   "metadata": {},
   "source": [
    "### Initializing the model"
   ]
  },
  {
   "cell_type": "code",
   "execution_count": 9,
   "id": "a161951d-4229-4eb8-a8d8-8cf6570053f3",
   "metadata": {},
   "outputs": [],
   "source": [
    "epochs = 15\n",
    "steps_per_epoch = train_generator.n//train_generator.batch_size\n",
    "validation_steps = validation_generator.n//validation_generator.batch_size\n",
    "\n",
    "checkpoint = ModelCheckpoint(\"model_weights.h5\", monitor = 'val_accuracy', save_weights_only = True, mode = 'max', verbose = 1)\n",
    "callbacks = [checkpoint]"
   ]
  },
  {
   "cell_type": "markdown",
   "id": "f55a6ba8-e801-4e47-bb6e-499dc70f51df",
   "metadata": {},
   "source": [
    "## Training the Model"
   ]
  },
  {
   "cell_type": "markdown",
   "id": "9cf4f728-831f-44c8-8ccd-04828aeeb516",
   "metadata": {},
   "source": [
    "**The next cell takes time to complete**"
   ]
  },
  {
   "cell_type": "code",
   "execution_count": 10,
   "id": "ffbd1fc4-9ac0-4773-bb35-ab5cebf6e2c7",
   "metadata": {},
   "outputs": [
    {
     "name": "stdout",
     "output_type": "stream",
     "text": [
      "Epoch 1/15\n",
      "448/448 [==============================] - ETA: 0s - loss: 1.6608 - accuracy: 0.3673\n",
      "Epoch 1: saving model to model_weights.h5\n",
      "448/448 [==============================] - 75s 165ms/step - loss: 1.6608 - accuracy: 0.3673 - val_loss: 1.5916 - val_accuracy: 0.4229\n",
      "Epoch 2/15\n",
      "448/448 [==============================] - ETA: 0s - loss: 1.3751 - accuracy: 0.4750\n",
      "Epoch 2: saving model to model_weights.h5\n",
      "448/448 [==============================] - 42s 94ms/step - loss: 1.3751 - accuracy: 0.4750 - val_loss: 1.4952 - val_accuracy: 0.4449\n",
      "Epoch 3/15\n",
      "448/448 [==============================] - ETA: 0s - loss: 1.2599 - accuracy: 0.5174\n",
      "Epoch 3: saving model to model_weights.h5\n",
      "448/448 [==============================] - 43s 97ms/step - loss: 1.2599 - accuracy: 0.5174 - val_loss: 1.1946 - val_accuracy: 0.5460\n",
      "Epoch 4/15\n",
      "448/448 [==============================] - ETA: 0s - loss: 1.1914 - accuracy: 0.5487\n",
      "Epoch 4: saving model to model_weights.h5\n",
      "448/448 [==============================] - 42s 94ms/step - loss: 1.1914 - accuracy: 0.5487 - val_loss: 1.2453 - val_accuracy: 0.5307\n",
      "Epoch 5/15\n",
      "448/448 [==============================] - ETA: 0s - loss: 1.1419 - accuracy: 0.5666\n",
      "Epoch 5: saving model to model_weights.h5\n",
      "448/448 [==============================] - 43s 95ms/step - loss: 1.1419 - accuracy: 0.5666 - val_loss: 1.2754 - val_accuracy: 0.5130\n",
      "Epoch 6/15\n",
      "448/448 [==============================] - ETA: 0s - loss: 1.0965 - accuracy: 0.5867\n",
      "Epoch 6: saving model to model_weights.h5\n",
      "448/448 [==============================] - 43s 97ms/step - loss: 1.0965 - accuracy: 0.5867 - val_loss: 1.1648 - val_accuracy: 0.5568\n",
      "Epoch 7/15\n",
      "448/448 [==============================] - ETA: 0s - loss: 1.0523 - accuracy: 0.6039\n",
      "Epoch 7: saving model to model_weights.h5\n",
      "448/448 [==============================] - 45s 100ms/step - loss: 1.0523 - accuracy: 0.6039 - val_loss: 1.2475 - val_accuracy: 0.5427\n",
      "Epoch 8/15\n",
      "448/448 [==============================] - ETA: 0s - loss: 1.0028 - accuracy: 0.6218\n",
      "Epoch 8: saving model to model_weights.h5\n",
      "448/448 [==============================] - 42s 94ms/step - loss: 1.0028 - accuracy: 0.6218 - val_loss: 1.1209 - val_accuracy: 0.5830\n",
      "Epoch 9/15\n",
      "448/448 [==============================] - ETA: 0s - loss: 0.9674 - accuracy: 0.6379\n",
      "Epoch 9: saving model to model_weights.h5\n",
      "448/448 [==============================] - 43s 95ms/step - loss: 0.9674 - accuracy: 0.6379 - val_loss: 1.1953 - val_accuracy: 0.5628\n",
      "Epoch 10/15\n",
      "448/448 [==============================] - ETA: 0s - loss: 0.9277 - accuracy: 0.6536\n",
      "Epoch 10: saving model to model_weights.h5\n",
      "448/448 [==============================] - 43s 95ms/step - loss: 0.9277 - accuracy: 0.6536 - val_loss: 1.1680 - val_accuracy: 0.5769\n",
      "Epoch 11/15\n",
      "448/448 [==============================] - ETA: 0s - loss: 0.8906 - accuracy: 0.6662\n",
      "Epoch 11: saving model to model_weights.h5\n",
      "448/448 [==============================] - 42s 94ms/step - loss: 0.8906 - accuracy: 0.6662 - val_loss: 1.1004 - val_accuracy: 0.6014\n",
      "Epoch 12/15\n",
      "448/448 [==============================] - ETA: 0s - loss: 0.8518 - accuracy: 0.6852\n",
      "Epoch 12: saving model to model_weights.h5\n",
      "448/448 [==============================] - 42s 94ms/step - loss: 0.8518 - accuracy: 0.6852 - val_loss: 1.1116 - val_accuracy: 0.5972\n",
      "Epoch 13/15\n",
      "448/448 [==============================] - ETA: 0s - loss: 0.8107 - accuracy: 0.6994\n",
      "Epoch 13: saving model to model_weights.h5\n",
      "448/448 [==============================] - 43s 96ms/step - loss: 0.8107 - accuracy: 0.6994 - val_loss: 1.1614 - val_accuracy: 0.5787\n",
      "Epoch 14/15\n",
      "448/448 [==============================] - ETA: 0s - loss: 0.7822 - accuracy: 0.7107\n",
      "Epoch 14: saving model to model_weights.h5\n",
      "448/448 [==============================] - 43s 95ms/step - loss: 0.7822 - accuracy: 0.7107 - val_loss: 1.1165 - val_accuracy: 0.6049\n",
      "Epoch 15/15\n",
      "448/448 [==============================] - ETA: 0s - loss: 0.7471 - accuracy: 0.7224\n",
      "Epoch 15: saving model to model_weights.h5\n",
      "448/448 [==============================] - 42s 94ms/step - loss: 0.7471 - accuracy: 0.7224 - val_loss: 1.0891 - val_accuracy: 0.6176\n"
     ]
    }
   ],
   "source": [
    "history = model.fit(\n",
    "    train_generator,\n",
    "steps_per_epoch = steps_per_epoch,\n",
    "epochs = epochs,\n",
    "validation_data = validation_generator,\n",
    "validation_steps = validation_steps,\n",
    "callbacks = callbacks)"
   ]
  },
  {
   "cell_type": "markdown",
   "id": "b7478e64-8d27-4d68-9d3a-978d61862d31",
   "metadata": {},
   "source": [
    "## Model Evaluation"
   ]
  },
  {
   "cell_type": "code",
   "execution_count": 11,
   "id": "faa22609-db74-4e9d-bc77-24443b0cbdbf",
   "metadata": {},
   "outputs": [
    {
     "name": "stdout",
     "output_type": "stream",
     "text": [
      "113/113 [==============================] - 6s 51ms/step - loss: 1.0884 - accuracy: 0.6177\n"
     ]
    },
    {
     "data": {
      "text/plain": [
       "[1.0883921384811401, 0.6177208423614502]"
      ]
     },
     "execution_count": 11,
     "metadata": {},
     "output_type": "execute_result"
    }
   ],
   "source": [
    "model.evaluate(validation_generator)"
   ]
  },
  {
   "cell_type": "markdown",
   "id": "1ed6870a-274d-4003-980d-32ed88cbc031",
   "metadata": {},
   "source": [
    "### Plotting Loss"
   ]
  },
  {
   "cell_type": "code",
   "execution_count": 12,
   "id": "488b0fc4-afca-436e-a336-33c954fcc82c",
   "metadata": {},
   "outputs": [
    {
     "data": {
      "image/png": "[encoded data removed]",
      "text/plain": [
       "<Figure size 640x480 with 1 Axes>"
      ]
     },
     "metadata": {},
     "output_type": "display_data"
    }
   ],
   "source": [
    "plt.plot(history.history['loss'])\n",
    "plt.plot(history.history['val_loss'])\n",
    "plt.title('Model Loss')\n",
    "plt.legend(['Train','Validation'],loc = 'upper left')\n",
    "plt.subplots_adjust(top=1.0,bottom=0.0,right =0.95,left=0.0,hspace=0.25,wspace=0.35)"
   ]
  },
  {
   "cell_type": "code",
   "execution_count": 13,
   "id": "302bce0b-6274-4749-a080-d8d95fc7a077",
   "metadata": {},
   "outputs": [
    {
     "data": {
      "image/png": "[encoded data removed]",
      "text/plain": [
       "<Figure size 640x480 with 1 Axes>"
      ]
     },
     "metadata": {},
     "output_type": "display_data"
    }
   ],
   "source": [
    "plt.plot(history.history['accuracy'])\n",
    "plt.plot(history.history['val_accuracy'])\n",
    "plt.title('Model Accuracy')\n",
    "plt.legend(['Train','Validation'],loc = 'upper left')\n",
    "plt.subplots_adjust(top=1.0,bottom=0.0,right =0.95,left=0.0,hspace=0.25,wspace=0.35)"
   ]
  },
  {
   "cell_type": "markdown",
   "id": "3c136ad5-d9ea-4a56-a064-91bd6bf4aee5",
   "metadata": {},
   "source": [
    "### Saving Model"
   ]
  },
  {
   "cell_type": "code",
   "execution_count": 14,
   "id": "a3b99f19-1c6a-45d9-b2f4-449aa2c68b51",
   "metadata": {},
   "outputs": [],
   "source": [
    "model_json = model.to_json()\n",
    "with open(\"model_b.json\",\"w\") as json_file:\n",
    "    json_file.write(model_json)"
   ]
  },
  {
   "cell_type": "code",
   "execution_count": null,
   "id": "77d085e2-59f4-47df-983a-4574ac0e5a92",
   "metadata": {},
   "outputs": [],
   "source": []
  }
 ],
 "metadata": {
  "kernelspec": {
   "display_name": "emotion_detection",
   "language": "python",
   "name": "emotion_detection"
  },
  "language_info": {
   "codemirror_mode": {
    "name": "ipython",
    "version": 3
   },
   "file_extension": ".py",
   "mimetype": "text/x-python",
   "name": "python",
   "nbconvert_exporter": "python",
   "pygments_lexer": "ipython3",
   "version": "3.9.18"
  }
 },
 "nbformat": 4,
 "nbformat_minor": 5
}
